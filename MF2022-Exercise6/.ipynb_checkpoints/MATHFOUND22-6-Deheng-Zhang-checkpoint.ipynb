{
 "cells": [
  {
   "cell_type": "code",
   "execution_count": 1,
   "id": "23ea95a7",
   "metadata": {},
   "outputs": [],
   "source": [
    "import torch\n",
    "import torchvision\n",
    "from torch.utils.data import Dataset, DataLoader\n",
    "from torchvision import datasets\n",
    "from torchvision.io import read_image\n",
    "import torchvision.transforms as transforms\n",
    "\n",
    "import matplotlib.pyplot as plt\n",
    "import os\n",
    "import numpy as np"
   ]
  },
  {
   "cell_type": "code",
   "execution_count": 5,
   "id": "c9cddca4",
   "metadata": {},
   "outputs": [],
   "source": [
    "class SRDataset(Dataset):\n",
    "    \"\"\"Define training/valid dataset loading methods.\n",
    "    Args:\n",
    "        image_dir (str): Train/Valid dataset address.\n",
    "        image_size (int): High resolution image size.\n",
    "        upscale_factor (int): Image up scale factor.\n",
    "        mode (str): Data set loading method, the training data set is for data enhancement, and the\n",
    "            verification dataset is not for data enhancement.\n",
    "    \"\"\"\n",
    "\n",
    "    def __init__(self, image_dir, image_size = 64, upscale_factor = 2, jitter_val = 0.2, mode = 'Train') -> None:\n",
    "        self.image_file_names = [os.path.join(image_dir, image_file_name) for image_file_name in os.listdir(image_dir)]\n",
    "        self.image_size = image_size\n",
    "        self.upscale_factor = upscale_factor\n",
    "        self.jitter_val = jitter_val\n",
    "        # Load training dataset or test dataset\n",
    "        self.mode = mode\n",
    "\n",
    "    def __getitem__(self, index):\n",
    "        image = read_image(self.image_file_names[index]).float()/255.\n",
    "        if self.mode == 'Train':\n",
    "            hr_transformer = transforms.Compose([\n",
    "                transforms.RandomCrop(self.image_size),\n",
    "                transforms.ColorJitter(brightness=self.jitter_val, contrast=self.jitter_val, saturation=self.jitter_val, hue=self.jitter_val),\n",
    "            ])  \n",
    "        else:\n",
    "            hr_transformer = transforms.Compose([\n",
    "                transforms.CenterCrop(self.image_size),\n",
    "                transforms.ColorJitter(brightness=self.jitter_val, contrast=self.jitter_val, saturation=self.jitter_val, hue=self.jitter_val),\n",
    "\n",
    "            ])\n",
    "        \n",
    "        lr_transformer = transforms.Compose([\n",
    "            transforms.RandomCrop(self.image_size),\n",
    "            transforms.ColorJitter(brightness=self.jitter_val, contrast=self.jitter_val, saturation=self.jitter_val, hue=self.jitter_val),\n",
    "            transforms.Resize(size=(int(self.image_size / self.upscale_factor), int(self.image_size / self.upscale_factor))),\n",
    "        ])\n",
    "        hr_image = hr_transformer(image)\n",
    "        lr_image = lr_transformer(image)\n",
    "        return lr_image, hr_image\n",
    "\n",
    "    def __len__(self):\n",
    "        return len(self.image_file_names)"
   ]
  },
  {
   "cell_type": "code",
   "execution_count": 6,
   "id": "b5ee6a99",
   "metadata": {},
   "outputs": [
    {
     "name": "stdout",
     "output_type": "stream",
     "text": [
      " * Dataset contains 301 image(s).\n"
     ]
    }
   ],
   "source": [
    "train_path = './train'\n",
    "test_path = './eval'\n",
    "train_dataset = SRDataset(train_path)\n",
    "test_dataset = SRDataset(test_path)\n",
    "train_dataloader = DataLoader(\n",
    "    train_dataset,\n",
    "    batch_size=4,\n",
    "    shuffle=True,\n",
    "    num_workers=2,\n",
    "    drop_last=True,\n",
    "    pin_memory=True,\n",
    ")\n",
    "print(f\" * Dataset contains {len(train_dataset)} image(s).\")\n",
    "for _, batch in enumerate(train_dataloader, 0):\n",
    "    lr_image, hr_image = batch\n",
    "    torchvision.io.write_png(lr_image[0, ...].mul(255).byte(), \"lr_image.png\")\n",
    "    torchvision.io.write_png(hr_image[0, ...].mul(255).byte(), \"hr_image.png\")\n",
    "    break # we deliberately break after one batch as this is just a test\n"
   ]
  },
  {
   "cell_type": "code",
   "execution_count": null,
   "id": "2b2980b7",
   "metadata": {},
   "outputs": [],
   "source": []
  }
 ],
 "metadata": {
  "kernelspec": {
   "display_name": "Python 3 (ipykernel)",
   "language": "python",
   "name": "python3"
  },
  "language_info": {
   "codemirror_mode": {
    "name": "ipython",
    "version": 3
   },
   "file_extension": ".py",
   "mimetype": "text/x-python",
   "name": "python",
   "nbconvert_exporter": "python",
   "pygments_lexer": "ipython3",
   "version": "3.8.12"
  }
 },
 "nbformat": 4,
 "nbformat_minor": 5
}
