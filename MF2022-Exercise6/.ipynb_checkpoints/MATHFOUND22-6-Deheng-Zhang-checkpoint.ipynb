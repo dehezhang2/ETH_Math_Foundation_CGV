{
 "cells": [
  {
   "cell_type": "markdown",
   "id": "80b8eeb8",
   "metadata": {},
   "source": [
    "# Mathematical Foundations of Computer Graphics and Vision 2022\n",
    "## EXERCISE 6 - DEEP LEARNING"
   ]
  },
  {
   "cell_type": "code",
   "execution_count": 1,
   "id": "a843116e",
   "metadata": {},
   "outputs": [],
   "source": [
    "import torch\n",
    "import torchvision\n",
    "from torch.utils.data import Dataset, DataLoader\n",
    "from torchvision import datasets\n",
    "from torchvision.io import read_image\n",
    "import torchvision.transforms as transforms\n",
    "from torch.utils.tensorboard import SummaryWriter\n",
    "from torchvision import datasets, transforms\n",
    "from pytorch_msssim import ssim\n",
    "\n",
    "\n",
    "import matplotlib.pyplot as plt\n",
    "import os\n",
    "import numpy as np\n",
    "from tqdm import tqdm"
   ]
  },
  {
   "cell_type": "code",
   "execution_count": 2,
   "id": "38e9a22d",
   "metadata": {},
   "outputs": [
    {
     "name": "stdout",
     "output_type": "stream",
     "text": [
      "Using cpu device\n"
     ]
    }
   ],
   "source": [
    "device = 'cuda' if torch.cuda.is_available() else 'cpu'\n",
    "print('Using {} device'.format(device))"
   ]
  },
  {
   "cell_type": "markdown",
   "id": "d2662ba9",
   "metadata": {},
   "source": [
    "## 1.1. Task 1 - Datasets, Preprocessing and Data loading"
   ]
  },
  {
   "cell_type": "code",
   "execution_count": 3,
   "id": "9021b892",
   "metadata": {},
   "outputs": [],
   "source": [
    "class SRDataset(Dataset):\n",
    "    \"\"\"Define training/valid dataset loading methods.\n",
    "    Args:\n",
    "        image_dir (str): Train/Valid dataset address.\n",
    "        image_size (int): High resolution image size.\n",
    "        upscale_factor (int): Image up scale factor.\n",
    "        mode (str): Data set loading method, the training data set is for data enhancement, and the\n",
    "            verification dataset is not for data enhancement.\n",
    "    \"\"\"\n",
    "\n",
    "    def __init__(self, image_dir, image_size = 64, upscale_factor = 2, jitter_val = 0.2, mode = 'Train') -> None:\n",
    "        super(SRDataset, self).__init__()\n",
    "        self.image_file_names = [os.path.join(image_dir, image_file_name) for image_file_name in os.listdir(image_dir)]\n",
    "        self.image_size = image_size\n",
    "        self.upscale_factor = upscale_factor\n",
    "        self.jitter_val = jitter_val\n",
    "        # Load training dataset or test dataset\n",
    "        self.mode = mode\n",
    "\n",
    "    def __getitem__(self, index):\n",
    "        image = read_image(self.image_file_names[index]).float()/255.\n",
    "        if self.mode == 'Train':\n",
    "            hr_transformer = transforms.Compose([\n",
    "                transforms.RandomCrop(self.image_size),\n",
    "                transforms.ColorJitter(brightness=self.jitter_val, contrast=self.jitter_val, saturation=self.jitter_val, hue=self.jitter_val),\n",
    "            ])  \n",
    "        else:\n",
    "            hr_transformer = transforms.Compose([\n",
    "                transforms.CenterCrop(self.image_size),\n",
    "                transforms.ColorJitter(brightness=self.jitter_val, contrast=self.jitter_val, saturation=self.jitter_val, hue=self.jitter_val),\n",
    "            ])\n",
    "        \n",
    "        lr_transformer = transforms.Compose([\n",
    "            transforms.Resize(size=(int(self.image_size / self.upscale_factor), int(self.image_size / self.upscale_factor))),\n",
    "        ])\n",
    "        hr_image = hr_transformer(image)\n",
    "        lr_image = lr_transformer(hr_image)\n",
    "        return lr_image, hr_image\n",
    "\n",
    "    def __len__(self):\n",
    "        return len(self.image_file_names)"
   ]
  },
  {
   "cell_type": "code",
   "execution_count": 4,
   "id": "11632523",
   "metadata": {},
   "outputs": [
    {
     "name": "stdout",
     "output_type": "stream",
     "text": [
      " * Dataset contains 301 image(s).\n"
     ]
    }
   ],
   "source": [
    "train_path = './train'\n",
    "test_path = './eval'\n",
    "train_dataset = SRDataset(train_path)\n",
    "test_dataset = SRDataset(test_path)\n",
    "train_dataloader = DataLoader(\n",
    "    train_dataset,\n",
    "    batch_size=4,\n",
    "    shuffle=True,\n",
    "    num_workers=0 if device == 'cpu' else 2,\n",
    "    drop_last=True,\n",
    "    pin_memory=True,\n",
    ")\n",
    "eval_dataloader = DataLoader(\n",
    "    test_dataset,\n",
    "    batch_size=4,\n",
    "    shuffle=True,\n",
    "    num_workers=0 if device == 'cpu' else 2,\n",
    "    drop_last=True,\n",
    "    pin_memory=True,\n",
    ")\n",
    "print(f\" * Dataset contains {len(train_dataset)} image(s).\")\n",
    "for _, batch in enumerate(train_dataloader, 0):\n",
    "    lr_image, hr_image = batch\n",
    "    torchvision.io.write_png(lr_image[0, ...].mul(255).byte(), \"lr_image.png\")\n",
    "    torchvision.io.write_png(hr_image[0, ...].mul(255).byte(), \"hr_image.png\")\n",
    "    break # we deliberately break after one batch as this is just a test"
   ]
  },
  {
   "cell_type": "markdown",
   "id": "34c01d1b",
   "metadata": {},
   "source": [
    "## 1.2. Task 2 - Create the Model"
   ]
  },
  {
   "cell_type": "code",
   "execution_count": 5,
   "id": "be34556c",
   "metadata": {},
   "outputs": [],
   "source": [
    "import torch.nn as nn\n",
    "import torch.nn.functional as F\n",
    "import torchvision.models as models"
   ]
  },
  {
   "cell_type": "code",
   "execution_count": 6,
   "id": "407d7ec0",
   "metadata": {},
   "outputs": [],
   "source": [
    "class BasicSRModel(nn.Module):\n",
    "    def __init__(self, upscale_factor = 2, layers = 10) :\n",
    "        super(BasicSRModel, self).__init__()\n",
    "        self.up_sample = nn.Upsample(scale_factor=upscale_factor, mode='bilinear')\n",
    "        self.conv_first = nn.Conv2d(3, 64, (3, 3), (1, 1), (1, 1))\n",
    "        self.conv_last = nn.Conv2d(64, 3, (3, 3), (1, 1), (1, 1))\n",
    "        modules = []\n",
    "        for i in range(layers):\n",
    "            modules.append(nn.Conv2d(64, 64, (3, 3), (1, 1), (1, 1)))\n",
    "            modules.append(nn.LeakyReLU())\n",
    "        self.conv_middle = nn.Sequential(*modules)\n",
    "\n",
    "    def forward(self, x):\n",
    "        x_up = self.up_sample(x)\n",
    "        out1 = self.conv_first(x_up)\n",
    "        out2 = self.conv_middle(out1)\n",
    "        out = self.conv_last(out2)\n",
    "        return out"
   ]
  },
  {
   "cell_type": "code",
   "execution_count": 7,
   "id": "49902871",
   "metadata": {},
   "outputs": [
    {
     "name": "stdout",
     "output_type": "stream",
     "text": [
      "372803\n"
     ]
    }
   ],
   "source": [
    "# learning_rate [1e-2, 1e-3, 1e-5, 1e-6]\n",
    "learning_rate = 1e-4\n",
    "save_iterval = 200\n",
    "number_of_epochs = 1000\n",
    "save_dir = './models'\n",
    "\n",
    "model = BasicSRModel().to(device)\n",
    "loss_function = nn.L1Loss().to(device)\n",
    "mse = nn.MSELoss()\n",
    "optimizer = torch.optim.Adam(filter(lambda p: p.requires_grad, model.parameters()),\n",
    "                                 lr=learning_rate)\n",
    "num_params = 0\n",
    "for param in model.parameters():\n",
    "    num_params += param.numel()\n",
    "print(num_params)"
   ]
  },
  {
   "cell_type": "markdown",
   "id": "87c3c874",
   "metadata": {},
   "source": [
    "## 1.3. Task 3 - Implement the Training Loop"
   ]
  },
  {
   "cell_type": "code",
   "execution_count": 8,
   "id": "0371e427",
   "metadata": {},
   "outputs": [],
   "source": [
    "# Writer will output to ./runs/ directory by default\n",
    "writer = SummaryWriter()"
   ]
  },
  {
   "cell_type": "code",
   "execution_count": null,
   "id": "4b279f3f",
   "metadata": {},
   "outputs": [
    {
     "name": "stderr",
     "output_type": "stream",
     "text": [
      "  0%|                                                                                      | 0/1000 [00:00<?, ?it/s]/Users/zdh/anaconda3/envs/aml_project/lib/python3.8/site-packages/torch/nn/functional.py:3631: UserWarning: Default upsampling behavior when mode=bilinear is changed to align_corners=False since 0.4.0. Please specify align_corners=True if the old behavior is desired. See the documentation of nn.Upsample for details.\n",
      "  warnings.warn(\n",
      "  1%|▉                                                                         | 13/1000 [10:35<13:07:11, 47.85s/it]"
     ]
    }
   ],
   "source": [
    "# average loss or use global id\n",
    "for epoch in tqdm(range(number_of_epochs)):\n",
    "    cnt = 0\n",
    "    l1 = 0\n",
    "    psnr = 0\n",
    "    SSIM = 0\n",
    "    min_loss = -1\n",
    "    for batch_id, batch in enumerate(train_dataloader):\n",
    "#         global_id = len(train_dataloader) * epoch + batch_id\n",
    "        low_res, high_res = batch\n",
    "        low_res = low_res.to(device)\n",
    "        high_res = high_res.to(device)\n",
    "        optimizer.zero_grad()\n",
    "        high_res_prediction = model(low_res)\n",
    "        loss = loss_function(high_res_prediction, high_res)\n",
    "        \n",
    "        l1 += loss\n",
    "        psnr += -10*torch.log10(mse(high_res_prediction, high_res))\n",
    "        SSIM += ssim( high_res_prediction, high_res, data_range=255, size_average=True)\n",
    "        cnt += 1\n",
    "        \n",
    "        loss.backward()\n",
    "        optimizer.step()\n",
    "        \n",
    "    if min_loss == -1 or min_loss > (float(l1) / float(cnt)):\n",
    "        min_loss = float(l1) / float(cnt)\n",
    "        torch.save(model.state_dict(), '{:s}/model_best_lr_{:.0E}.pth'.format(save_dir, learning_rate))\n",
    "        \n",
    "    writer.add_scalar('L1/train', float(l1) / float(cnt), epoch)\n",
    "    writer.add_scalar('PSNR/train', float(psnr) / float(cnt), epoch)\n",
    "    writer.add_scalar('SSIM/train', float(SSIM) / float(cnt), epoch)\n",
    "    \n",
    "    cnt = 0\n",
    "    l1 = 0\n",
    "    psnr = 0\n",
    "    SSIM = 0\n",
    "    for batch_id, batch in enumerate(eval_dataloader):\n",
    "        with torch.no_grad():\n",
    "            low_res, high_res = batch\n",
    "            low_res = low_res.to(device)\n",
    "            high_res = high_res.to(device)\n",
    "            high_res_prediction = model(low_res)\n",
    "            loss = loss_function(high_res_prediction, high_res)\n",
    "\n",
    "            l1 += loss\n",
    "            psnr += -10*torch.log10(mse(high_res_prediction, high_res))\n",
    "            SSIM += ssim( high_res_prediction, high_res, data_range=255, size_average=True)\n",
    "            cnt += 1\n",
    "    writer.add_scalar('L1/evaluation', float(l1) / float(cnt), epoch)\n",
    "    writer.add_scalar('PSNR/evaluation', float(psnr) / float(cnt), epoch)\n",
    "    writer.add_scalar('SSIM/evaluation', float(SSIM) / float(cnt), epoch)\n",
    "    if (epoch + 1) % save_iterval or (epoch + 1) == number_of_epochs:    \n",
    "        torch.save(model.state_dict(), '{:s}/model_iter_{:d}_lr_{:.0E}.pth'.format(save_dir, epoch, learning_rate))"
   ]
  },
  {
   "cell_type": "code",
   "execution_count": null,
   "id": "06630abc",
   "metadata": {},
   "outputs": [],
   "source": [
    "model = BasicSRModel()\n",
    "model.load_state_dict(torch.load('{:s}/model_best_lr_{:.0E}.pth'.format(save_dir, learning_rate)))"
   ]
  }
 ],
 "metadata": {
  "kernelspec": {
   "display_name": "Python 3 (ipykernel)",
   "language": "python",
   "name": "python3"
  },
  "language_info": {
   "codemirror_mode": {
    "name": "ipython",
    "version": 3
   },
   "file_extension": ".py",
   "mimetype": "text/x-python",
   "name": "python",
   "nbconvert_exporter": "python",
   "pygments_lexer": "ipython3",
   "version": "3.8.12"
  }
 },
 "nbformat": 4,
 "nbformat_minor": 5
}
